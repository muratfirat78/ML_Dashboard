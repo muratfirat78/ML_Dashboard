{
 "cells": [
  {
   "cell_type": "markdown",
   "id": "ac3b7332-c32a-4429-9b09-049bf82351be",
   "metadata": {},
   "source": [
    "\n",
    "<img align=\"right\" width=\"125\" src=\"https://www.ou.nl/documents/40554/3255217/Logo_OU.jpg\"/>\n",
    "\n",
    "<br>\n",
    "\n",
    "\n",
    "<center> <font size =\"6\" color='red'> Machine Learning Training Dashboard </font></center>\n",
    "<br> \n",
    "\n",
    "<br>"
   ]
  },
  {
   "cell_type": "markdown",
   "id": "c45ba72b",
   "metadata": {},
   "source": [
    "Model Development dashboard \n"
   ]
  },
  {
   "cell_type": "code",
   "execution_count": 2,
   "id": "30bc056f",
   "metadata": {},
   "outputs": [
    {
     "data": {
      "application/vnd.jupyter.widget-view+json": {
       "model_id": "d5843e1bcdbe4b8c9b4ae0d7f1a0b2fb",
       "version_major": 2,
       "version_minor": 0
      },
      "text/plain": [
       "VBox(children=(VBox(children=(Text(value='', description='User ID:'), Button(description='Login', style=Button…"
      ]
     },
     "execution_count": 2,
     "metadata": {},
     "output_type": "execute_result"
    }
   ],
   "source": [
    "\n",
    "\n",
    "from IPython.display import clear_output\n",
    "from IPython import display\n",
    "from ipywidgets import *\n",
    "from controller.controller import Controller\n",
    "import warnings\n",
    "import time\n",
    "import threading\n",
    "\n",
    "controller = Controller(None)\n",
    "warnings.filterwarnings(\"ignore\")\n",
    "\n",
    "if controller.get_online_version():\n",
    "    user = \"muratfirat78\"\n",
    "    repo = \"CPP_Datasets\"\n",
    "\n",
    "    if os.path.isdir(repo):\n",
    "        !rm -rf {repo}\n",
    "\n",
    "    !git clone https://github.com/{user}/{repo}.git\n",
    "    %cd /content/{repo}\n",
    "\n",
    "ui = controller.get_ui()\n",
    "ui\n",
    "\n"
   ]
  },
  {
   "cell_type": "code",
   "execution_count": null,
   "id": "09c8856e-54ed-46bc-8c26-98b489ad90b2",
   "metadata": {},
   "outputs": [],
   "source": []
  },
  {
   "cell_type": "code",
   "execution_count": null,
   "id": "e3593f51-3193-4a68-8cc6-035b1222f1cd",
   "metadata": {},
   "outputs": [],
   "source": []
  }
 ],
 "metadata": {
  "kernelspec": {
   "display_name": "Python 3 (ipykernel)",
   "language": "python",
   "name": "python3"
  },
  "language_info": {
   "codemirror_mode": {
    "name": "ipython",
    "version": 3
   },
   "file_extension": ".py",
   "mimetype": "text/x-python",
   "name": "python",
   "nbconvert_exporter": "python",
   "pygments_lexer": "ipython3",
   "version": "3.12.7"
  }
 },
 "nbformat": 4,
 "nbformat_minor": 5
}
