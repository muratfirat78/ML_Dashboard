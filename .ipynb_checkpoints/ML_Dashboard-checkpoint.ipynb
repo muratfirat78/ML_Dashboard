{
 "cells": [
  {
   "cell_type": "markdown",
   "id": "ac3b7332-c32a-4429-9b09-049bf82351be",
   "metadata": {},
   "source": [
    "\n",
    "<img align=\"right\" width=\"125\" src=\"https://www.ou.nl/documents/40554/3255217/Logo_OU.jpg\"/>\n",
    "\n",
    "<br>\n",
    "\n",
    "\n",
    "<center> <font size =\"6\" color='red'> Machine Learning Training Dashboard </font></center>\n",
    "<br> \n",
    "\n",
    "<br>"
   ]
  },
  {
   "cell_type": "markdown",
   "id": "c45ba72b",
   "metadata": {},
   "source": [
    "Model Development dashboard \n"
   ]
  },
  {
   "cell_type": "code",
   "execution_count": 1,
   "id": "30bc056f",
   "metadata": {},
   "outputs": [
    {
     "name": "stdout",
     "output_type": "stream",
     "text": [
      "['__class__', '__delattr__', '__dict__', '__dir__', '__doc__', '__eq__', '__format__', '__ge__', '__getattribute__', '__getstate__', '__gt__', '__hash__', '__init__', '__init_subclass__', '__le__', '__lt__', '__module__', '__ne__', '__new__', '__reduce__', '__reduce_ex__', '__repr__', '__setattr__', '__sizeof__', '__str__', '__subclasshook__', '__weakref__', 'assign_target', 'data_cleaning_model', 'data_cleaning_view', 'data_processing_model', 'data_processing_view', 'data_selection_model', 'data_selection_view', 'file_Click', 'get_tabs', 'main_view', 'make_balanced', 'make_cleaning', 'make_encoding', 'make_scaling', 'make_split', 'on_submitfunc', 'predictive_modeling_model', 'predictive_modeling_view', 'read_data_set', 'remove_outliers', 'savedata', 'selectProcess_Type', 'train_Model']\n"
     ]
    },
    {
     "data": {
      "application/vnd.jupyter.widget-view+json": {
       "model_id": "f536faddb10b4b789d4c628f42f4550e",
       "version_major": 2,
       "version_minor": 0
      },
      "text/plain": [
       "Tab(children=(VBox(children=(HBox(children=(Text(value='DataSets', description='Folder name:'), Dropdown(descr…"
      ]
     },
     "execution_count": 1,
     "metadata": {},
     "output_type": "execute_result"
    }
   ],
   "source": [
    "\n",
    "\n",
    "from IPython.display import clear_output\n",
    "from IPython import display\n",
    "from ipywidgets import *\n",
    "from controller.controller import Controller\n",
    "import settings\n",
    "import warnings\n",
    "\n",
    "\n",
    "warnings.filterwarnings(\"ignore\")\n",
    "settings.init()\n",
    "\n",
    "# def init_tabs():\n",
    "\n",
    "\n",
    "if settings.online_version:\n",
    "    user = \"muratfirat78\"\n",
    "    repo = \"CPP_Datasets\"\n",
    "\n",
    "    if os.path.isdir(repo):\n",
    "        !rm -rf {repo}\n",
    "\n",
    "    !git clone https://github.com/{user}/{repo}.git\n",
    "    %cd /content/{repo}\n",
    "\n",
    "controller = Controller()\n",
    "\n",
    "\n",
    "\n",
    "# init_tabs()\n",
    "tab_set = widgets.Tab(controller.get_tabs())\n",
    "tab_set.set_title(\n",
    "    0, 'Data Selection')\n",
    "\n",
    "tab_set.set_title(1, 'Data Cleaning')\n",
    "tab_set.set_title(2, 'Data Processing')\n",
    "tab_set.set_title(3, 'Predictive Modeling')\n",
    "\n",
    "tab_set\n"
   ]
  },
  {
   "cell_type": "code",
   "execution_count": null,
   "id": "d06b69e8-3508-4b28-9e6c-6ad4765f2d56",
   "metadata": {},
   "outputs": [],
   "source": []
  },
  {
   "cell_type": "code",
   "execution_count": null,
   "id": "cf187c59-025b-4897-9275-170cf98722d1",
   "metadata": {},
   "outputs": [],
   "source": []
  }
 ],
 "metadata": {
  "kernelspec": {
   "display_name": "Python 3 (ipykernel)",
   "language": "python",
   "name": "python3"
  },
  "language_info": {
   "codemirror_mode": {
    "name": "ipython",
    "version": 3
   },
   "file_extension": ".py",
   "mimetype": "text/x-python",
   "name": "python",
   "nbconvert_exporter": "python",
   "pygments_lexer": "ipython3",
   "version": "3.12.7"
  }
 },
 "nbformat": 4,
 "nbformat_minor": 5
}
