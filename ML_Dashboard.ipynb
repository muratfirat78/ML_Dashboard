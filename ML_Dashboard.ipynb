{
 "cells": [
  {
   "cell_type": "markdown",
   "id": "ac3b7332-c32a-4429-9b09-049bf82351be",
   "metadata": {},
   "source": [
    "\n",
    "<img align=\"right\" width=\"125\" src=\"https://www.ou.nl/documents/40554/3255217/Logo_OU.jpg\"/>\n",
    "\n",
    "<br>\n",
    "\n",
    "\n",
    "<center> <font size =\"6\" color='red'> Machine Learning Training Dashboard </font></center>\n",
    "<br> \n",
    "\n",
    "<br>"
   ]
  },
  {
   "cell_type": "markdown",
   "id": "c45ba72b",
   "metadata": {},
   "source": [
    "Model Development dashboard \n"
   ]
  },
  {
   "cell_type": "code",
   "execution_count": 1,
   "id": "30bc056f",
   "metadata": {},
   "outputs": [
    {
     "data": {
      "application/vnd.jupyter.widget-view+json": {
       "model_id": "b046ac6b521a4a50a232d716c0a637b4",
       "version_major": 2,
       "version_minor": 0
      },
      "text/plain": [
       "Tab(children=(VBox(children=(HBox(children=(Text(value='DataSets', description='Folder name:'), Dropdown(descr…"
      ]
     },
     "execution_count": 1,
     "metadata": {},
     "output_type": "execute_result"
    }
   ],
   "source": [
    "\n",
    "\n",
    "from IPython.display import clear_output\n",
    "from IPython import display\n",
    "from ipywidgets import *\n",
    "from controller.controller import Controller\n",
    "import warnings\n",
    "\n",
    "controller = Controller()\n",
    "\n",
    "warnings.filterwarnings(\"ignore\")\n",
    "\n",
    "# def init_tabs():\n",
    "\n",
    "\n",
    "if controller.get_online_version():\n",
    "    user = \"muratfirat78\"\n",
    "    repo = \"CPP_Datasets\"\n",
    "\n",
    "    if os.path.isdir(repo):\n",
    "        !rm -rf {repo}\n",
    "\n",
    "    !git clone https://github.com/{user}/{repo}.git\n",
    "    %cd /content/{repo}\n",
    "# init_tabs()\n",
    "tab_set = widgets.Tab(controller.get_tabs())\n",
    "tab_set.set_title(\n",
    "    0, 'Data Selection')\n",
    "\n",
    "tab_set.set_title(1, 'Data Cleaning')\n",
    "tab_set.set_title(2, 'Data Processing')\n",
    "tab_set.set_title(3, 'Predictive Modeling')\n",
    "\n",
    "tab_set\n"
   ]
  },
  {
   "cell_type": "code",
   "execution_count": null,
   "id": "9468418b-3ee0-4e2a-bea8-1c5d51f58f19",
   "metadata": {},
   "outputs": [],
   "source": []
  }
 ],
 "metadata": {
  "kernelspec": {
   "display_name": "Python 3 (ipykernel)",
   "language": "python",
   "name": "python3"
  },
  "language_info": {
   "codemirror_mode": {
    "name": "ipython",
    "version": 3
   },
   "file_extension": ".py",
   "mimetype": "text/x-python",
   "name": "python",
   "nbconvert_exporter": "python",
   "pygments_lexer": "ipython3",
   "version": "3.12.7"
  }
 },
 "nbformat": 4,
 "nbformat_minor": 5
}
