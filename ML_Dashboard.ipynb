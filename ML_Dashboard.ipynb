{
 "cells": [
  {
   "cell_type": "markdown",
   "id": "ac3b7332-c32a-4429-9b09-049bf82351be",
   "metadata": {},
   "source": [
    "\n",
    "<img align=\"right\" width=\"125\" src=\"https://www.ou.nl/documents/40554/3255217/Logo_OU.jpg\"/>\n",
    "\n",
    "<br>\n",
    "\n",
    "\n",
    "<center> <font size =\"6\" color='red'> Machine Learning Training Dashboard </font></center>\n",
    "<br> \n",
    "\n",
    "<br>"
   ]
  },
  {
   "cell_type": "markdown",
   "id": "c45ba72b",
   "metadata": {},
   "source": [
    "Model Development dashboard \n"
   ]
  },
  {
   "cell_type": "code",
   "execution_count": null,
   "id": "30bc056f",
   "metadata": {},
   "outputs": [
    {
     "data": {
      "application/vnd.jupyter.widget-view+json": {
       "model_id": "07b206f78a734f178d2a001d972276a3",
       "version_major": 2,
       "version_minor": 0
      },
      "text/plain": [
       "Tab(children=(VBox(children=(HBox(children=(Text(value='DataSets', description='Folder name:'), Dropdown(descr…"
      ]
     },
     "execution_count": 2,
     "metadata": {},
     "output_type": "execute_result"
    }
   ],
   "source": [
    "from IPython.display import clear_output\n",
    "from IPython import display\n",
    "from data_cleaning_view import get_data_cleaning_tab\n",
    "from data_processing_view import get_data_processing_tab\n",
    "from data_selection_view import get_data_selection_tab\n",
    "from ipywidgets import *\n",
    "from data_cleaning_manager import *\n",
    "from data_processing_manager import *\n",
    "from data_selection_manager import *\n",
    "from predictive_modeling_manager import *\n",
    "from predictive_modeling_view import get_predictive_modeling_tab\n",
    "import settings\n",
    "import warnings\n",
    "\n",
    "warnings.filterwarnings(\"ignore\")\n",
    "settings.init()\n",
    "\n",
    "# def init_tabs():\n",
    "\n",
    "\n",
    "if settings.online_version:\n",
    "    user = \"muratfirat78\"\n",
    "    repo = \"CPP_Datasets\"\n",
    "\n",
    "    if os.path.isdir(repo):\n",
    "        !rm -rf {repo}\n",
    "\n",
    "    !git clone https://github.com/{user}/{repo}.git\n",
    "    %cd /content/{repo}\n",
    "\n",
    "tab_1 = get_data_selection_tab()\n",
    "tab_2 = get_data_cleaning_tab()\n",
    "tab_3 = get_data_processing_tab()\n",
    "tab_4 = get_predictive_modeling_tab()\n",
    "# init_tabs()\n",
    "tab_set = widgets.Tab([tab_1,tab_2,tab_3,tab_4])\n",
    "tab_set.set_title(\n",
    "    0, 'Data Selection')\n",
    "\n",
    "tab_set.set_title(1, 'Data Cleaning')\n",
    "tab_set.set_title(2, 'Data Processing')\n",
    "tab_set.set_title(3, 'Predictive Modeling')\n",
    "\n",
    "tab_set\n"
   ]
  },
  {
   "cell_type": "code",
   "execution_count": null,
   "id": "47cecd29-4fe5-4a45-a3fb-5e9713738805",
   "metadata": {},
   "outputs": [],
   "source": []
  }
 ],
 "metadata": {
  "kernelspec": {
   "display_name": "Python 3 (ipykernel)",
   "language": "python",
   "name": "python3"
  },
  "language_info": {
   "codemirror_mode": {
    "name": "ipython",
    "version": 3
   },
   "file_extension": ".py",
   "mimetype": "text/x-python",
   "name": "python",
   "nbconvert_exporter": "python",
   "pygments_lexer": "ipython3",
   "version": "3.12.7"
  }
 },
 "nbformat": 4,
 "nbformat_minor": 5
}
